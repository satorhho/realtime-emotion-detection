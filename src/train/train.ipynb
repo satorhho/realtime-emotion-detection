{
 "cells": [
  {
   "cell_type": "markdown",
   "id": "214bdcb9",
   "metadata": {},
   "source": [
    "Training notebook"
   ]
  },
  {
   "cell_type": "markdown",
   "id": "4f41ded4",
   "metadata": {},
   "source": [
    "<h1>Libraries</h1>"
   ]
  },
  {
   "cell_type": "code",
   "execution_count": 79,
   "id": "0f96bb18",
   "metadata": {},
   "outputs": [],
   "source": [
    "import numpy as np\n",
    "import tensorflow as tf\n",
    "import cv2 as cv\n",
    "import os\n",
    "import configparser\n",
    "import sklearn\n",
    "from matplotlib import pyplot as plt\n",
    "import time"
   ]
  },
  {
   "cell_type": "markdown",
   "id": "291401f6",
   "metadata": {},
   "source": [
    "<h1> Global Variables </h1>"
   ]
  },
  {
   "cell_type": "code",
   "execution_count": 52,
   "id": "fbaa6926",
   "metadata": {},
   "outputs": [],
   "source": [
    "PWD = os.path.abspath(os.getcwd())\n",
    "CONFIG = configparser.RawConfigParser()\n",
    "CONFIG.read('..\\\\..\\\\config\\\\.properties')\n",
    "TEST_DIR = CONFIG.get('GeneralConfiguration', 'data.test');\n",
    "TRAIN_DIR = CONFIG.get('GeneralConfiguration', 'data.train');\n",
    "LOGS = CONFIG .get('GeneralConfiguration', 'logs')\n",
    "IMG_INPUT_SHAPE = cv.imread(f'{TRAIN_DIR}\\\\happy\\\\im999.png').shape"
   ]
  },
  {
   "cell_type": "markdown",
   "id": "35be50de",
   "metadata": {},
   "source": [
    "<h1>Functions</h1>"
   ]
  },
  {
   "cell_type": "code",
   "execution_count": 48,
   "id": "e2c749df",
   "metadata": {},
   "outputs": [
    {
     "name": "stdout",
     "output_type": "stream",
     "text": [
      "C:\\Users\\lkbri\\Desktop\\realtime-emotion-detection\\src\\train\n"
     ]
    }
   ],
   "source": [
    "print(PWD)"
   ]
  },
  {
   "cell_type": "markdown",
   "id": "db09aa68",
   "metadata": {},
   "source": [
    "<h2>Main</h2>"
   ]
  },
  {
   "cell_type": "markdown",
   "id": "29fc1aae",
   "metadata": {},
   "source": [
    "Preparing the dataset "
   ]
  },
  {
   "cell_type": "code",
   "execution_count": 77,
   "id": "3608fc07",
   "metadata": {},
   "outputs": [
    {
     "name": "stdout",
     "output_type": "stream",
     "text": [
      "Found 28709 images belonging to 7 classes.\n",
      "class indices: {'angry': 0, 'disgusted': 1, 'fearful': 2, 'happy': 3, 'neutral': 4, 'sad': 5, 'surprised': 6}\n"
     ]
    }
   ],
   "source": [
    "train_generator = tf.keras.preprocessing.image.ImageDataGenerator(rescale = 1/255)    # No need to rescale\n",
    "train_dataset = train_generator.flow_from_directory(\n",
    "    directory=TRAIN_DIR,\n",
    "    color_mode='grayscale',\n",
    "    target_size = IMG_INPUT_SHAPE,\n",
    "    class_mode = \"categorical\",\n",
    "    shuffle=True,\n",
    "    seed=42,                                                                          # randomizer\n",
    "    batch_size=32\n",
    ")\n",
    "class_indices = train_dataset.class_indices\n",
    "print('class indices:', class_indices)"
   ]
  },
  {
   "cell_type": "markdown",
   "id": "55abef57",
   "metadata": {},
   "source": [
    "Building the model"
   ]
  },
  {
   "cell_type": "code",
   "execution_count": 82,
   "id": "55c0d80d",
   "metadata": {},
   "outputs": [],
   "source": [
    "model = tf.keras.models.Sequential([\n",
    "    tf.keras.layers.Dense(units=32, activation='relu', input_shape=IMG_INPUT_SHAPE),\n",
    "    tf.keras.layers.Dense(units=64, activation='relu'),\n",
    "    tf.keras.layers.Dense(7, activation = \"softmax\")  # number of neurons in the final layer should be equal to the classes (7)\n",
    "])"
   ]
  },
  {
   "cell_type": "code",
   "execution_count": 83,
   "id": "0bf29d90",
   "metadata": {},
   "outputs": [],
   "source": [
    "model.compile(loss = \"categorical_crossentropy\",      # for multiclass classification\n",
    "              optimizer = 'sgd',                      # Stochastic Gradient Descent to make things simpler\n",
    "              metrics=['accuracy']\n",
    ")"
   ]
  },
  {
   "cell_type": "markdown",
   "id": "a0e83060",
   "metadata": {},
   "source": [
    "Training"
   ]
  },
  {
   "cell_type": "code",
   "execution_count": null,
   "id": "d66fb50f",
   "metadata": {},
   "outputs": [],
   "source": [
    "# NOTE: Make sure to log these!\n",
    "tik = time.time()\n",
    "history = model.fit(train_dataset,\n",
    "          epochs = 200,\n",
    ")\n",
    "tok = time.time()\n",
    "print(f'Training time: {int(tok-tik)} seconds')"
   ]
  },
  {
   "cell_type": "markdown",
   "id": "b16eba12",
   "metadata": {},
   "source": [
    "Model Utilities"
   ]
  },
  {
   "cell_type": "code",
   "execution_count": null,
   "id": "b0961052",
   "metadata": {},
   "outputs": [],
   "source": []
  },
  {
   "cell_type": "markdown",
   "id": "6807ec2f",
   "metadata": {},
   "source": [
    "Playground"
   ]
  },
  {
   "cell_type": "code",
   "execution_count": null,
   "id": "3bbbca32",
   "metadata": {},
   "outputs": [],
   "source": []
  }
 ],
 "metadata": {
  "kernelspec": {
   "display_name": "Python 3 (ipykernel)",
   "language": "python",
   "name": "python3"
  },
  "language_info": {
   "codemirror_mode": {
    "name": "ipython",
    "version": 3
   },
   "file_extension": ".py",
   "mimetype": "text/x-python",
   "name": "python",
   "nbconvert_exporter": "python",
   "pygments_lexer": "ipython3",
   "version": "3.9.13"
  }
 },
 "nbformat": 4,
 "nbformat_minor": 5
}
