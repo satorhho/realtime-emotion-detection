{
 "cells": [
  {
   "cell_type": "markdown",
   "id": "214bdcb9",
   "metadata": {},
   "source": [
    "Training notebook"
   ]
  },
  {
   "cell_type": "markdown",
   "id": "4f41ded4",
   "metadata": {},
   "source": [
    "<h1>Libraries</h1>"
   ]
  },
  {
   "cell_type": "code",
   "execution_count": 1,
   "id": "0f96bb18",
   "metadata": {},
   "outputs": [],
   "source": [
    "import numpy as np\n",
    "import tensorflow as tf\n",
    "import cv2 as cv\n",
    "import os\n",
    "import configparser\n",
    "import sklearn\n",
    "from matplotlib import pyplot as plt\n",
    "import time\n",
    "import logging"
   ]
  },
  {
   "cell_type": "markdown",
   "id": "291401f6",
   "metadata": {},
   "source": [
    "<h1> Global Variables </h1>"
   ]
  },
  {
   "cell_type": "code",
   "execution_count": 2,
   "id": "fbaa6926",
   "metadata": {},
   "outputs": [],
   "source": [
    "PWD = os.path.abspath(os.getcwd())\n",
    "CONFIG = configparser.RawConfigParser()\n",
    "CONFIG.read('..\\\\..\\\\config\\\\.properties')\n",
    "TEST_DIR = CONFIG.get('GeneralConfiguration', 'data.test');\n",
    "TRAIN_DIR = CONFIG.get('GeneralConfiguration', 'data.train');\n",
    "MODELS = CONFIG.get('GeneralConfiguration', 'models.dir');\n",
    "IMG_INPUT_SHAPE = cv.imread(f'{TRAIN_DIR}\\\\happy\\\\im999.png').shape\n",
    "SHAPE_DIR = (48, 48) # images are 48x48 format"
   ]
  },
  {
   "cell_type": "markdown",
   "id": "35be50de",
   "metadata": {},
   "source": [
    "<h1>Functions</h1>"
   ]
  },
  {
   "cell_type": "code",
   "execution_count": null,
   "id": "e2c749df",
   "metadata": {},
   "outputs": [],
   "source": []
  },
  {
   "cell_type": "markdown",
   "id": "db09aa68",
   "metadata": {},
   "source": [
    "<h2>Main</h2>"
   ]
  },
  {
   "cell_type": "markdown",
   "id": "29fc1aae",
   "metadata": {},
   "source": [
    "Preparing the dataset "
   ]
  },
  {
   "cell_type": "code",
   "execution_count": 3,
   "id": "3608fc07",
   "metadata": {},
   "outputs": [
    {
     "name": "stdout",
     "output_type": "stream",
     "text": [
      "Found 28709 images belonging to 7 classes.\n",
      "class indices: {'angry': 0, 'disgusted': 1, 'fearful': 2, 'happy': 3, 'neutral': 4, 'sad': 5, 'surprised': 6}\n"
     ]
    }
   ],
   "source": [
    "train_generator = tf.keras.preprocessing.image.ImageDataGenerator(rescale = 1/255)    \n",
    "train_dataset = train_generator.flow_from_directory(\n",
    "    directory=TRAIN_DIR,\n",
    "    #color_mode='grayscale',\n",
    "    target_size = SHAPE_DIR,\n",
    "    class_mode = \"categorical\",\n",
    "    shuffle=True,\n",
    "    seed=42,                                                                          # randomizer\n",
    "    batch_size=32\n",
    ")\n",
    "class_indices = train_dataset.class_indices\n",
    "print('class indices:', class_indices)"
   ]
  },
  {
   "cell_type": "markdown",
   "id": "666d7cfd",
   "metadata": {},
   "source": [
    "Building the model"
   ]
  },
  {
   "cell_type": "code",
   "execution_count": 4,
   "id": "55c0d80d",
   "metadata": {},
   "outputs": [],
   "source": [
    "model = tf.keras.models.Sequential([\n",
    "    tf.keras.layers.Dense(units=32, activation='relu', input_shape=IMG_INPUT_SHAPE),\n",
    "    tf.keras.layers.Dense(units=64, activation='relu'),\n",
    "    tf.keras.layers.Dense(units=32, activation='relu'),\n",
    "    tf.keras.layers.Flatten(),                        # Added a flatten layer to solve shape incompatibility\n",
    "    tf.keras.layers.Dense(7, activation = \"softmax\")  # number of neurons in the final layer should be equal to the classes (7)\n",
    "])"
   ]
  },
  {
   "cell_type": "code",
   "execution_count": 5,
   "id": "0bf29d90",
   "metadata": {},
   "outputs": [],
   "source": [
    "model.compile(loss = \"categorical_crossentropy\",      # for multiclass classification\n",
    "              optimizer = 'sgd',                      # Stochastic Gradient Descent to make things simpler\n",
    "              metrics=['accuracy']\n",
    ")"
   ]
  },
  {
   "cell_type": "markdown",
   "id": "a0e83060",
   "metadata": {},
   "source": [
    "Training"
   ]
  },
  {
   "cell_type": "code",
   "execution_count": 6,
   "id": "d66fb50f",
   "metadata": {},
   "outputs": [
    {
     "name": "stdout",
     "output_type": "stream",
     "text": [
      "Epoch 1/5\n",
      "898/898 [==============================] - 35s 38ms/step - loss: 1.7725 - accuracy: 0.2749\n",
      "Epoch 2/5\n",
      "898/898 [==============================] - 34s 38ms/step - loss: 1.6777 - accuracy: 0.3427\n",
      "Epoch 3/5\n",
      "898/898 [==============================] - 34s 38ms/step - loss: 1.6435 - accuracy: 0.3579\n",
      "Epoch 4/5\n",
      "898/898 [==============================] - 34s 38ms/step - loss: 1.6197 - accuracy: 0.3715\n",
      "Epoch 5/5\n",
      "898/898 [==============================] - 34s 38ms/step - loss: 1.5995 - accuracy: 0.3822\n",
      "Training time: 171 seconds\n"
     ]
    }
   ],
   "source": [
    "# NOTE: Make sure to log these!\n",
    "tik = time.time()\n",
    "history = model.fit(train_dataset,\n",
    "                    epochs = 100\n",
    "                    #batch_size = 32\n",
    "                    \n",
    ")\n",
    "tok = time.time()\n",
    "print(f'Training time: {int(tok-tik)} seconds')"
   ]
  },
  {
   "cell_type": "markdown",
   "id": "b16eba12",
   "metadata": {},
   "source": [
    "Model Utilities"
   ]
  },
  {
   "cell_type": "code",
   "execution_count": 18,
   "id": "b0961052",
   "metadata": {},
   "outputs": [
    {
     "data": {
      "image/png": "[encoded data removed]",
      "text/plain": [
       "<Figure size 640x480 with 1 Axes>"
      ]
     },
     "metadata": {},
     "output_type": "display_data"
    },
    {
     "data": {
      "image/png": "[encoded data removed]",
      "text/plain": [
       "<Figure size 640x480 with 1 Axes>"
      ]
     },
     "metadata": {},
     "output_type": "display_data"
    }
   ],
   "source": [
    "model.save(f'{MODELS}\\\\model1.h5')\n",
    "\n",
    "hist_file = open(f'{MODELS}\\\\model_history.txt', 'a')\n",
    "hist_file.write(f'{history.history}')\n",
    "hist_file.close()\n",
    "print(f'Model history saved in: {MODELS}\\\\model_history.txt')\n",
    "\n",
    "plt.plot(history.history['loss'], color = 'blue')\n",
    "plt.xlabel('Epoch')\n",
    "plt.ylabel('Loss')\n",
    "plt.title('Training Loss')\n",
    "plt.savefig(f'{MODELS}\\\\model1_loss.jpg')\n",
    "plt.show()\n",
    "print(f'Loss metrics figure saved in: {MODELS}\\\\model1_loss.jpg')\n",
    "                \n",
    "plt.plot(history.history['accuracy'], color = 'red')\n",
    "plt.xlabel('Epoch')\n",
    "plt.ylabel('Accuracy')\n",
    "plt.title('Training Accuracy')\n",
    "plt.savefig(f'{MODELS}\\\\model1_accuracy.jpg')\n",
    "plt.show()\n",
    "print(f'Accuracy metrics figure saved in: {MODELS}\\\\model1_accuracy.jpg')"
   ]
  },
  {
   "cell_type": "code",
   "execution_count": 15,
   "id": "16aa83d1",
   "metadata": {},
   "outputs": [
    {
     "data": {
      "text/plain": [
       "[0.2749311923980713,\n",
       " 0.3426800072193146,\n",
       " 0.3579016923904419,\n",
       " 0.37152111530303955,\n",
       " 0.38221463561058044]"
      ]
     },
     "execution_count": 15,
     "metadata": {},
     "output_type": "execute_result"
    }
   ],
   "source": []
  },
  {
   "cell_type": "markdown",
   "id": "6807ec2f",
   "metadata": {},
   "source": [
    "Playground"
   ]
  },
  {
   "cell_type": "code",
   "execution_count": null,
   "id": "3bbbca32",
   "metadata": {},
   "outputs": [],
   "source": []
  }
 ],
 "metadata": {
  "kernelspec": {
   "display_name": "Python 3 (ipykernel)",
   "language": "python",
   "name": "python3"
  },
  "language_info": {
   "codemirror_mode": {
    "name": "ipython",
    "version": 3
   },
   "file_extension": ".py",
   "mimetype": "text/x-python",
   "name": "python",
   "nbconvert_exporter": "python",
   "pygments_lexer": "ipython3",
   "version": "3.9.16"
  }
 },
 "nbformat": 4,
 "nbformat_minor": 5
}
