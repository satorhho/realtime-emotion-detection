{
 "cells": [
  {
   "cell_type": "code",
   "execution_count": 1,
   "id": "5026ac8b",
   "metadata": {},
   "outputs": [],
   "source": [
    "import numpy as np\n",
    "import tensorflow as tf\n",
    "import matplotlib.pyplot as plt\n",
    "import cv2 as cv\n",
    "import os"
   ]
  },
  {
   "cell_type": "code",
   "execution_count": 2,
   "id": "cecb2da5",
   "metadata": {},
   "outputs": [],
   "source": [
    "img = cv.imread(r'C:\\Users\\lkbri\\Desktop\\realtime-emotion-detection\\data\\test\\angry\\im0.png')"
   ]
  },
  {
   "cell_type": "code",
   "execution_count": 3,
   "id": "199fba84",
   "metadata": {},
   "outputs": [
    {
     "data": {
      "text/plain": [
       "array([[[254, 254, 254],\n",
       "        [254, 254, 254],\n",
       "        [254, 254, 254],\n",
       "        ...,\n",
       "        [ 16,  16,  16],\n",
       "        [  0,   0,   0],\n",
       "        [161, 161, 161]],\n",
       "\n",
       "       [[254, 254, 254],\n",
       "        [254, 254, 254],\n",
       "        [254, 254, 254],\n",
       "        ...,\n",
       "        [ 17,  17,  17],\n",
       "        [  0,   0,   0],\n",
       "        [122, 122, 122]],\n",
       "\n",
       "       [[254, 254, 254],\n",
       "        [254, 254, 254],\n",
       "        [254, 254, 254],\n",
       "        ...,\n",
       "        [ 26,  26,  26],\n",
       "        [  0,   0,   0],\n",
       "        [114, 114, 114]],\n",
       "\n",
       "       ...,\n",
       "\n",
       "       [[ 66,  66,  66],\n",
       "        [ 86,  86,  86],\n",
       "        [ 99,  99,  99],\n",
       "        ...,\n",
       "        [255, 255, 255],\n",
       "        [252, 252, 252],\n",
       "        [254, 254, 254]],\n",
       "\n",
       "       [[ 84,  84,  84],\n",
       "        [ 92,  92,  92],\n",
       "        [ 92,  92,  92],\n",
       "        ...,\n",
       "        [236, 236, 236],\n",
       "        [255, 255, 255],\n",
       "        [255, 255, 255]],\n",
       "\n",
       "       [[ 93,  93,  93],\n",
       "        [ 90,  90,  90],\n",
       "        [ 85,  85,  85],\n",
       "        ...,\n",
       "        [ 42,  42,  42],\n",
       "        [129, 129, 129],\n",
       "        [180, 180, 180]]], dtype=uint8)"
      ]
     },
     "execution_count": 3,
     "metadata": {},
     "output_type": "execute_result"
    }
   ],
   "source": [
    "img"
   ]
  },
  {
   "cell_type": "code",
   "execution_count": 4,
   "id": "2a32ef58",
   "metadata": {
    "scrolled": true
   },
   "outputs": [],
   "source": [
    "vid = cv.VideoCapture(0)\n",
    "while(True):\n",
    "    ret, frame = vid.read()\n",
    "    cv.imshow('frame', frame)\n",
    "    if cv.waitKey(1) & 0xFF == ord('q'):\n",
    "        break\n",
    "vid.release()\n",
    "cv.destroyAllWindows()"
   ]
  },
  {
   "cell_type": "code",
   "execution_count": 6,
   "id": "cc5c9d96",
   "metadata": {},
   "outputs": [
    {
     "name": "stdout",
     "output_type": "stream",
     "text": [
      "2.12.0\n"
     ]
    }
   ],
   "source": [
    "print(tf.__version__)"
   ]
  },
  {
   "cell_type": "code",
   "execution_count": null,
   "id": "2b5a0f39",
   "metadata": {},
   "outputs": [],
   "source": []
  }
 ],
 "metadata": {
  "kernelspec": {
   "display_name": "Python 3 (ipykernel)",
   "language": "python",
   "name": "python3"
  },
  "language_info": {
   "codemirror_mode": {
    "name": "ipython",
    "version": 3
   },
   "file_extension": ".py",
   "mimetype": "text/x-python",
   "name": "python",
   "nbconvert_exporter": "python",
   "pygments_lexer": "ipython3",
   "version": "3.9.16"
  }
 },
 "nbformat": 4,
 "nbformat_minor": 5
}
